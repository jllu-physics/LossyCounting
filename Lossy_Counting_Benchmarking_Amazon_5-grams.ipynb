{
 "cells": [
  {
   "cell_type": "markdown",
   "id": "d70ba933-23b5-4f53-9d4e-a0a08b8c13e4",
   "metadata": {},
   "source": [
    "This notebook compares lossy counting and the exact counting over the time and space efficiency as well as the accuracy infinding frequent item.\n",
    "\n",
    "This notebook consumes **huge memory**. It consumes essentially all 32GB memory on my desktop.\n",
    "\n",
    "Lossy counting itself is memory efficient. It would only consume around 1GB for the same task. This notebook requires huge memory only because we would like to perform exact counting to compare."
   ]
  },
  {
   "cell_type": "code",
   "execution_count": 1,
   "id": "0c8de684-eb72-4d33-8103-17a6a35c77aa",
   "metadata": {},
   "outputs": [],
   "source": [
    "import sys\n",
    "from collections import Counter\n",
    "from tqdm import tqdm\n",
    "from datasets import load_dataset\n",
    "from LossyCounter import LossyCounter\n",
    "import numpy as np\n",
    "import matplotlib.pyplot as plt\n",
    "import time"
   ]
  },
  {
   "cell_type": "code",
   "execution_count": 2,
   "id": "c329ea7b-25d2-4b9e-a053-a904afbbf7dc",
   "metadata": {},
   "outputs": [],
   "source": [
    "s = 1e-6\n",
    "n = 5\n",
    "dataset = load_dataset(\"amazon_polarity\")#, streaming = True)\n",
    "train_set = dataset['train']"
   ]
  },
  {
   "cell_type": "code",
   "execution_count": 3,
   "id": "57f743ad-7cd3-40b7-86be-08ef78299ff1",
   "metadata": {},
   "outputs": [
    {
     "name": "stdout",
     "output_type": "stream",
     "text": [
      "Number of reviews (million):  3.6\n"
     ]
    }
   ],
   "source": [
    "print(\"Number of reviews (million): \", len(train_set)/1e6)"
   ]
  },
  {
   "cell_type": "code",
   "execution_count": 4,
   "id": "5774096e-f449-4d43-a699-e0cb5b0d0d44",
   "metadata": {},
   "outputs": [],
   "source": [
    "eps = s/2\n",
    "w = int(np.ceil(1/eps))\n",
    "flush_limit = 5*w #this is also the cache size\n",
    "prune_limit = 1 #prune immediately after flushing cache into counter"
   ]
  },
  {
   "cell_type": "code",
   "execution_count": 5,
   "id": "a35ef9ec-fc19-47f5-a16b-ef1733fd5dcc",
   "metadata": {},
   "outputs": [
    {
     "name": "stderr",
     "output_type": "stream",
     "text": [
      "100%|██████████████████████████████| 3600000/3600000 [05:17<00:00, 11338.44it/s]\n"
     ]
    },
    {
     "name": "stdout",
     "output_type": "stream",
     "text": [
      "total time (s):  318.235\n"
     ]
    }
   ],
   "source": [
    "n_items_lossy = []\n",
    "t0 = time.time()\n",
    "ngram_count = LossyCounter(eps, flush_limit = flush_limit, prune_limit = prune_limit)\n",
    "for item in tqdm(train_set):\n",
    "    raw_text = item['content']\n",
    "    tokens = raw_text.split(' ')\n",
    "    T = len(tokens)\n",
    "    ngrams = ['_'.join(tokens[i:i+n]) for i in range(T-n+1)]\n",
    "    ngram_count.cache(ngrams)\n",
    "    n_items_lossy.append(len(ngram_count.counter)+len(ngram_count._cache_counter))\n",
    "ngram_count.flush()\n",
    "ngram_count.prune()\n",
    "n_items_lossy.append(len(ngram_count.counter)+len(ngram_count._cache_counter))\n",
    "t1 = time.time()\n",
    "dt = t1 - t0\n",
    "print(\"total time (s): \", np.round(dt,3))"
   ]
  },
  {
   "cell_type": "code",
   "execution_count": 6,
   "id": "4c4293a1-0309-4c04-b58f-bc9467c5cf56",
   "metadata": {},
   "outputs": [],
   "source": [
    "freq_keys = ngram_count.getFreqItems(s,approx = 'median')\n",
    "approx_counts = ngram_count.getCounts(freq_keys, approx = 'lower')"
   ]
  },
  {
   "cell_type": "code",
   "execution_count": 7,
   "id": "dfebc24f-2b26-402f-b629-dc2a2a6ee328",
   "metadata": {},
   "outputs": [
    {
     "name": "stdout",
     "output_type": "stream",
     "text": [
      "Top 5-grams found and their counts:\n",
      "is_one_of_the_best 14913\n",
      "This_is_one_of_the 12282\n",
      "If_you_are_looking_for 9830\n",
      "I_would_not_recommend_this 9070\n",
      "you_are_looking_for_a 8944\n",
      "I_bought_this_for_my 8439\n",
      "is_one_of_the_most 7341\n",
      "waste_your_money_on_this 6869\n",
      "at_the_end_of_the 6678\n",
      "is_one_of_my_favorite 6045\n"
     ]
    }
   ],
   "source": [
    "print(\"Top 5-grams found and their counts:\")\n",
    "d = {k: v for k, v in sorted(approx_counts.items(), key=lambda item: item[1], reverse=True)[:10]}\n",
    "for k in d:\n",
    "    print(k,d[k])"
   ]
  },
  {
   "cell_type": "code",
   "execution_count": 8,
   "id": "e66cc92a-82b7-47a2-80ac-120b4d04ec94",
   "metadata": {},
   "outputs": [
    {
     "name": "stdout",
     "output_type": "stream",
     "text": [
      "Lossy Counting\n",
      "number of items in lossy counter:  45254\n"
     ]
    }
   ],
   "source": [
    "print(\"Lossy Counting\")\n",
    "print(\"number of items in lossy counter: \", len(ngram_count.counter))"
   ]
  },
  {
   "cell_type": "code",
   "execution_count": 9,
   "id": "056bf500-ba0a-407c-b3a6-a7298e8dfdb6",
   "metadata": {},
   "outputs": [],
   "source": [
    "mem_size_lossy = sys.getsizeof(ngram_count.counter)"
   ]
  },
  {
   "cell_type": "code",
   "execution_count": 10,
   "id": "98a66c04-efb6-44f8-90cc-ff796d985ba4",
   "metadata": {},
   "outputs": [],
   "source": [
    "full_mem_size_lossy = mem_size_lossy + \\\n",
    "sum([sys.getsizeof(k)+\n",
    "     sys.getsizeof(ngram_count.counter[k]) \n",
    "     for k in ngram_count.counter])"
   ]
  },
  {
   "cell_type": "code",
   "execution_count": 11,
   "id": "d967f552-a1e0-4040-b1d5-d003ce4619ab",
   "metadata": {},
   "outputs": [
    {
     "name": "stdout",
     "output_type": "stream",
     "text": [
      "Lossy Counting\n",
      "memory size (hash table, MB):  2.62\n"
     ]
    }
   ],
   "source": [
    "print(\"Lossy Counting\")\n",
    "print(\"memory size (hash table, MB): \", np.round(mem_size_lossy/1e6,2))"
   ]
  },
  {
   "cell_type": "code",
   "execution_count": 12,
   "id": "3cf7e425-88c3-4902-a623-885025c08843",
   "metadata": {},
   "outputs": [
    {
     "name": "stdout",
     "output_type": "stream",
     "text": [
      "Lossy Counting\n",
      "memory size (all, MB):  7.11\n"
     ]
    }
   ],
   "source": [
    "print(\"Lossy Counting\")\n",
    "print(\"memory size (all, MB): \", np.round(full_mem_size_lossy/1e6,2))"
   ]
  },
  {
   "cell_type": "code",
   "execution_count": 13,
   "id": "ef4390e7-aa64-4973-bacc-e0b72674430f",
   "metadata": {},
   "outputs": [
    {
     "name": "stderr",
     "output_type": "stream",
     "text": [
      "100%|██████████████████████████████| 3600000/3600000 [05:07<00:00, 11710.28it/s]"
     ]
    },
    {
     "name": "stdout",
     "output_type": "stream",
     "text": [
      "total time (s):  307.428\n"
     ]
    },
    {
     "name": "stderr",
     "output_type": "stream",
     "text": [
      "\n"
     ]
    }
   ],
   "source": [
    "n_items_exact = []\n",
    "t0 = time.time()\n",
    "c = Counter()\n",
    "for item in tqdm(train_set):\n",
    "    raw_text = item['content']\n",
    "    tokens = raw_text.split(' ')\n",
    "    T = len(tokens)\n",
    "    ngrams = ['_'.join(tokens[i:i+n]) for i in range(T-n+1)]\n",
    "    c.update(ngrams)\n",
    "    n_items_exact.append(len(c))\n",
    "t1 = time.time()\n",
    "dt = t1 - t0\n",
    "print(\"total time (s): \", np.round(dt,3))"
   ]
  },
  {
   "cell_type": "code",
   "execution_count": 14,
   "id": "130dc18b-a8bd-4e81-a30e-1f09e7d50932",
   "metadata": {},
   "outputs": [
    {
     "name": "stdout",
     "output_type": "stream",
     "text": [
      "Exact Counting\n",
      "number of items in exact counter:  218556227\n"
     ]
    }
   ],
   "source": [
    "print(\"Exact Counting\")\n",
    "print(\"number of items in exact counter: \", len(c))"
   ]
  },
  {
   "cell_type": "code",
   "execution_count": 15,
   "id": "5dd1d861-1fe4-4cf5-8b04-6af2b5728a68",
   "metadata": {},
   "outputs": [],
   "source": [
    "mem_size_exact = sys.getsizeof(c)"
   ]
  },
  {
   "cell_type": "code",
   "execution_count": 16,
   "id": "7ddd380a-b51f-4f4a-8f77-a7790c04e2d1",
   "metadata": {},
   "outputs": [],
   "source": [
    "full_mem_size_exact = mem_size_exact + \\\n",
    "sum([sys.getsizeof(k)+\n",
    "     sys.getsizeof(c[k]) \n",
    "     for k in c])"
   ]
  },
  {
   "cell_type": "code",
   "execution_count": 17,
   "id": "c67ca4c0-2309-4caa-a9a4-0ecf762a2592",
   "metadata": {},
   "outputs": [
    {
     "name": "stdout",
     "output_type": "stream",
     "text": [
      "Exact Counting\n",
      "memory size (hash table, MB):  10737.42\n"
     ]
    }
   ],
   "source": [
    "print(\"Exact Counting\")\n",
    "print(\"memory size (hash table, MB): \", np.round(mem_size_exact/1e6,2))"
   ]
  },
  {
   "cell_type": "code",
   "execution_count": 18,
   "id": "12a64203-0be6-4e25-b050-53ad30786dea",
   "metadata": {},
   "outputs": [
    {
     "name": "stdout",
     "output_type": "stream",
     "text": [
      "Exact Counting\n",
      "memory size (all, MB):  33456.29\n"
     ]
    }
   ],
   "source": [
    "print(\"Exact Counting\")\n",
    "print(\"memory size (all, MB): \", np.round(full_mem_size_exact/1e6,2))"
   ]
  },
  {
   "cell_type": "code",
   "execution_count": 19,
   "id": "ef5baf1d-5ae8-4474-8b2e-3c0ed38a0989",
   "metadata": {},
   "outputs": [
    {
     "data": {
      "image/png": "[encoded data removed]",
      "text/plain": [
       "<Figure size 400x300 with 1 Axes>"
      ]
     },
     "metadata": {},
     "output_type": "display_data"
    }
   ],
   "source": [
    "plt.figure(figsize=(4,3))\n",
    "plt.plot(n_items_lossy)\n",
    "plt.plot(n_items_exact)\n",
    "plt.yscale(\"log\")\n",
    "plt.xlabel(\"Number of Reviews Processed\")\n",
    "plt.ylabel(\"Number of Unique n-grams\")\n",
    "plt.legend([\"Lossy\",\"Exact\"],loc=(0.65,0.1))\n",
    "plt.tight_layout()\n",
    "plt.savefig(\"amazon_lossy_save_space.svg\")\n",
    "plt.savefig(\"amazon_lossy_save_space.pdf\")"
   ]
  },
  {
   "cell_type": "code",
   "execution_count": 20,
   "id": "e506cd40-6761-41f5-a5db-b4a658f99d77",
   "metadata": {},
   "outputs": [
    {
     "data": {
      "text/plain": [
       "22.77106742992457"
      ]
     },
     "execution_count": 20,
     "metadata": {},
     "output_type": "execute_result"
    }
   ],
   "source": [
    "max(n_items_exact)/max(n_items_lossy)"
   ]
  },
  {
   "cell_type": "code",
   "execution_count": 21,
   "id": "478a9d72-e0a6-4e8f-a292-27d96030a35e",
   "metadata": {},
   "outputs": [
    {
     "name": "stdout",
     "output_type": "stream",
     "text": [
      "corpus size (5-gram, million):  252.61\n"
     ]
    }
   ],
   "source": [
    "N = c.total()\n",
    "print(\"corpus size (5-gram, million): \", np.round(N/1e6,2))"
   ]
  },
  {
   "cell_type": "code",
   "execution_count": 22,
   "id": "c1815753-3829-4552-b8f0-823a802e95c7",
   "metadata": {},
   "outputs": [
    {
     "name": "stdout",
     "output_type": "stream",
     "text": [
      "frequency threshold:  252\n"
     ]
    }
   ],
   "source": [
    "print(\"frequency threshold: \", int(s*N))"
   ]
  },
  {
   "cell_type": "code",
   "execution_count": 23,
   "id": "748fbbab-9d53-4246-a764-9e9fc0b84e8f",
   "metadata": {},
   "outputs": [],
   "source": [
    "freq_keys = ngram_count.getFreqItems(s/10,approx = 'median')\n",
    "approx_counts = ngram_count.getCounts(freq_keys, approx = 'median')\n",
    "\n",
    "true = []\n",
    "approx = []\n",
    "\n",
    "for k in freq_keys:\n",
    "    true.append(c[k]/ngram_count.total)\n",
    "    approx.append(approx_counts[k]/ngram_count.total)"
   ]
  },
  {
   "cell_type": "code",
   "execution_count": 24,
   "id": "cb4c97a4-d3c9-42d5-a673-76ea8d8f8fdb",
   "metadata": {},
   "outputs": [
    {
     "data": {
      "image/png": "[encoded data removed]",
      "text/plain": [
       "<Figure size 400x300 with 1 Axes>"
      ]
     },
     "metadata": {},
     "output_type": "display_data"
    }
   ],
   "source": [
    "plt.figure(figsize=(4,3))\n",
    "plt.plot(true,approx,'.')\n",
    "plt.plot(true,true)\n",
    "min_freq = min(true)\n",
    "max_freq = max(true)\n",
    "plt.plot([s,s],[min_freq,max_freq],'k--')\n",
    "plt.plot([eps,eps],[min_freq,max_freq],'k-.')\n",
    "plt.xscale(\"log\")\n",
    "plt.yscale(\"log\")\n",
    "plt.xlabel(\"True Freq.\")\n",
    "plt.ylabel(\"Approx. Freq.\")\n",
    "plt.legend(['Lossy','Exact','$f_{true}=s$','$f_{true}=\\epsilon$'])\n",
    "plt.tight_layout()\n",
    "plt.savefig(\"amazon_lossy_correctness.svg\")\n",
    "plt.savefig(\"amazon_lossy_correctness.pdf\")"
   ]
  },
  {
   "cell_type": "code",
   "execution_count": 25,
   "id": "a9c92e05-8f9f-4c13-b36f-e6c2b1a35f2f",
   "metadata": {},
   "outputs": [],
   "source": [
    "freq_keys_approx = set(ngram_count.getFreqItems(s,approx = 'median'))\n",
    "freq_keys_true = set([k for k in c if c[k]>s*N])"
   ]
  },
  {
   "cell_type": "code",
   "execution_count": 26,
   "id": "0ce117ac-69f7-4c4b-872c-b0658a9bef70",
   "metadata": {},
   "outputs": [],
   "source": [
    "freq_keys_approx = set(ngram_count.getFreqItems(s,approx = 'median'))"
   ]
  },
  {
   "cell_type": "code",
   "execution_count": 27,
   "id": "683e48da-8051-41f0-b171-8a59bff1b5b5",
   "metadata": {},
   "outputs": [
    {
     "name": "stdout",
     "output_type": "stream",
     "text": [
      "Lossy Counting result\n",
      "list of  0  false alarms and their counts\n",
      "out of  4567  frequent items in total\n",
      "threshold:  252\n"
     ]
    }
   ],
   "source": [
    "false_alarm = freq_keys_approx.difference(freq_keys_true)\n",
    "print(\"Lossy Counting result\")\n",
    "print(\"list of \", len(false_alarm), \" false alarms and their counts\")\n",
    "print(\"out of \", len(freq_keys_true), \" frequent items in total\")\n",
    "print(\"threshold: \", int(s*N))\n",
    "for k in false_alarm:\n",
    "    print(k,c[k])"
   ]
  },
  {
   "cell_type": "code",
   "execution_count": 28,
   "id": "2370dc10-d647-489c-b3eb-c294002d6320",
   "metadata": {},
   "outputs": [
    {
     "name": "stdout",
     "output_type": "stream",
     "text": [
      "Lossy Counting result\n",
      "list of  10  missed 5-grams and their counts\n",
      "out of  4567  frequent items in total\n",
      "threshold:  252\n",
      "had_to_go_back_to 254\n",
      "don't_know_what_else_to 254\n",
      "I_love_being_able_to 256\n",
      "there_was_something_wrong_with 253\n",
      "If_I_had_to_do 253\n",
      "are_much_better_books_out 255\n",
      "I_must_say_that_it 255\n",
      "I_would_give_this_a 253\n",
      "highly_recommend_this_book_and 254\n",
      "find_out_what_happened_to 253\n"
     ]
    }
   ],
   "source": [
    "false_negative = freq_keys_true.difference(freq_keys_approx)\n",
    "print(\"Lossy Counting result\")\n",
    "print(\"list of \", len(false_negative), \" missed 5-grams and their counts\")\n",
    "print(\"out of \", len(freq_keys_true), \" frequent items in total\")\n",
    "print(\"threshold: \", int(s*N))\n",
    "for k in false_negative:\n",
    "    print(k,c[k])"
   ]
  },
  {
   "cell_type": "code",
   "execution_count": 29,
   "id": "6cf6d5cc-dded-4385-85bb-43e590289b54",
   "metadata": {},
   "outputs": [
    {
     "name": "stdout",
     "output_type": "stream",
     "text": [
      "The standard deviation of item count at threshold is 15.89\n"
     ]
    }
   ],
   "source": [
    "print('The standard deviation of item count at threshold is',np.round(np.sqrt(s*(1-s)*N),2))"
   ]
  },
  {
   "cell_type": "code",
   "execution_count": 30,
   "id": "07eee12f-4b94-4765-9202-2d77b148983d",
   "metadata": {},
   "outputs": [],
   "source": [
    "del c"
   ]
  },
  {
   "cell_type": "code",
   "execution_count": 5,
   "id": "2f137653-9e4c-4c2e-9914-197051d6491a",
   "metadata": {},
   "outputs": [
    {
     "name": "stderr",
     "output_type": "stream",
     "text": [
      "100%|██████████████████████████████| 3600000/3600000 [05:11<00:00, 11540.55it/s]\n"
     ]
    }
   ],
   "source": [
    "max_space = 0\n",
    "#max_full_space = 0\n",
    "space_lossy = []\n",
    "n_items_lossy = []\n",
    "ngram_count = LossyCounter(eps, flush_limit = flush_limit, prune_limit = prune_limit)\n",
    "for item in tqdm(train_set):\n",
    "    raw_text = item['content']\n",
    "    tokens = raw_text.split(' ')\n",
    "    T = len(tokens)\n",
    "    ngrams = ['_'.join(tokens[i:i+n]) for i in range(T-n+1)]\n",
    "    ngram_count.cache(ngrams)\n",
    "    space = sys.getsizeof(ngram_count.counter) + sys.getsizeof(ngram_count._cache_counter)\n",
    "    space_lossy.append(space)\n",
    "    n_items = len(ngram_count.counter) + len(ngram_count._cache_counter)\n",
    "    n_items_lossy.append(n_items)\n",
    "    if space > max_space:\n",
    "        max_space = space\n",
    "    #full_space = space\n",
    "    #full_space += sum([sys.getsizeof(k)+sys.getsizeof(ngram_count.counter[k]) for k in ngram_count.counter])\n",
    "    #full_space += sum([sys.getsizeof(k)+sys.getsizeof(ngram_count._cache_counter[k]) for k in ngram_count._cache_counter])\n",
    "    #if full_space > max_full_space:\n",
    "    #    max_full_space = full_space\n",
    "ngram_count.flush()\n",
    "ngram_count.prune()\n",
    "space = sys.getsizeof(ngram_count.counter) + sys.getsizeof(ngram_count._cache_counter)\n",
    "space_lossy.append(space)\n",
    "n_items = len(ngram_count.counter) + len(ngram_count._cache_counter)\n",
    "n_items_lossy.append(n_items)"
   ]
  },
  {
   "cell_type": "code",
   "execution_count": 6,
   "id": "02e937b7-407d-4087-adab-f7c7f80b2cb9",
   "metadata": {},
   "outputs": [],
   "source": [
    "key_value_space = sum([sys.getsizeof(k)+sys.getsizeof(ngram_count.counter[k]) for k in ngram_count.counter])\n",
    "avg_kv_space = key_value_space / len(ngram_count.counter)\n",
    "total_space_lossy = [space_lossy[i] + n_items_lossy[i]*avg_kv_space for i in range(len(space_lossy))]"
   ]
  },
  {
   "cell_type": "code",
   "execution_count": 7,
   "id": "aef64238-c469-48ea-81df-51dc9e083597",
   "metadata": {},
   "outputs": [
    {
     "name": "stderr",
     "output_type": "stream",
     "text": [
      "100%|██████████████████████████████| 3600000/3600000 [04:42<00:00, 12758.50it/s]\n"
     ]
    }
   ],
   "source": [
    "n_items_exact = []\n",
    "space_exact = []\n",
    "c = Counter()\n",
    "for item in tqdm(train_set):\n",
    "    raw_text = item['content']\n",
    "    tokens = raw_text.split(' ')\n",
    "    T = len(tokens)\n",
    "    ngrams = ['_'.join(tokens[i:i+n]) for i in range(T-n+1)]\n",
    "    c.update(ngrams)\n",
    "    n_items_exact.append(len(c))\n",
    "    space = sys.getsizeof(c)\n",
    "    space_exact.append(space)"
   ]
  },
  {
   "cell_type": "code",
   "execution_count": 8,
   "id": "827fb6ee-bc7b-4862-8ca8-5d152b28b7dc",
   "metadata": {},
   "outputs": [],
   "source": [
    "total_space_exact = [space_exact[i] + n_items_exact[i]*avg_kv_space for i in range(len(space_exact))]"
   ]
  },
  {
   "cell_type": "code",
   "execution_count": 9,
   "id": "aa2613af-546c-405f-b513-6afa82b32113",
   "metadata": {},
   "outputs": [
    {
     "data": {
      "image/png": "[encoded data removed]",
      "text/plain": [
       "<Figure size 400x300 with 1 Axes>"
      ]
     },
     "metadata": {},
     "output_type": "display_data"
    }
   ],
   "source": [
    "plt.figure(figsize=(4,3))\n",
    "plt.plot([x/1e9 for x in total_space_lossy])\n",
    "plt.plot([x/1e9 for x in total_space_exact])\n",
    "plt.yscale(\"log\")\n",
    "plt.xlabel(\"Number of Reviews Processed\")\n",
    "plt.ylabel(\"Memory Usage (GB)\")\n",
    "plt.legend([\"Lossy\",\"Exact\"],loc=(0.65,0.1))\n",
    "plt.tight_layout()\n",
    "plt.savefig(\"amazon_lossy_save_space_memory.svg\")\n",
    "plt.savefig(\"amazon_lossy_save_space_memory.pdf\")"
   ]
  },
  {
   "cell_type": "code",
   "execution_count": null,
   "id": "6b59fa43-49b6-4160-8038-e7515ea88383",
   "metadata": {},
   "outputs": [],
   "source": [
    "print(\"max space for lossy counting (hash table, MB): \", np.round(max_space/1e6,2))"
   ]
  },
  {
   "cell_type": "code",
   "execution_count": null,
   "id": "46c4c1a7-3b3b-4070-bf8d-dd0ff6565d7f",
   "metadata": {},
   "outputs": [],
   "source": [
    "print(\"lossy counting reduces memory consumption by \", np.round(mem_size_exact/max_space,2), \"fold\")"
   ]
  },
  {
   "cell_type": "code",
   "execution_count": null,
   "id": "fbe6bee2-c3f7-4fbc-9901-26841db448c8",
   "metadata": {},
   "outputs": [],
   "source": [
    "for k in ngram_count.getFreqItems(s,approx = 'median')[:10]:\n",
    "    print(k,ngram_count.counter[k])"
   ]
  },
  {
   "cell_type": "code",
   "execution_count": null,
   "id": "57504832-a519-4c9b-90db-0a1234516030",
   "metadata": {},
   "outputs": [],
   "source": []
  }
 ],
 "metadata": {
  "kernelspec": {
   "display_name": "Python 3 (ipykernel)",
   "language": "python",
   "name": "python3"
  },
  "language_info": {
   "codemirror_mode": {
    "name": "ipython",
    "version": 3
   },
   "file_extension": ".py",
   "mimetype": "text/x-python",
   "name": "python",
   "nbconvert_exporter": "python",
   "pygments_lexer": "ipython3",
   "version": "3.10.12"
  }
 },
 "nbformat": 4,
 "nbformat_minor": 5
}
